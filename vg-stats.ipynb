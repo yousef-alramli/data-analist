{
 "cells": [
  {
   "cell_type": "markdown",
   "metadata": {},
   "source": [
    "# Video Games analysis\n",
    "- **dev name** : Yousef alramli \n",
    "- **date** : 15/11/2021"
   ]
  },
  {
   "cell_type": "code",
   "execution_count": 1,
   "metadata": {},
   "outputs": [],
   "source": [
    "%matplotlib inline\n",
    "import matplotlib.pyplot as plt\n",
    "\n",
    "import pandas as pd"
   ]
  },
  {
   "cell_type": "markdown",
   "metadata": {},
   "source": [
    "## most common puplisher"
   ]
  },
  {
   "cell_type": "code",
   "execution_count": 2,
   "metadata": {},
   "outputs": [
    {
     "data": {
      "text/plain": [
       "'Electronic Arts'"
      ]
     },
     "execution_count": 2,
     "metadata": {},
     "output_type": "execute_result"
    }
   ],
   "source": [
    "df = pd.read_csv('vgsales.csv')\n",
    "puplisher = df['Publisher'].mode()[0]\n",
    "puplisher\n",
    "\n"
   ]
  },
  {
   "cell_type": "markdown",
   "metadata": {},
   "source": [
    "## What’s the most common platform?"
   ]
  },
  {
   "cell_type": "code",
   "execution_count": 3,
   "metadata": {},
   "outputs": [
    {
     "data": {
      "text/plain": [
       "'DS'"
      ]
     },
     "execution_count": 3,
     "metadata": {},
     "output_type": "execute_result"
    }
   ],
   "source": [
    "platform = df['Platform'].mode()[0]\n",
    "platform"
   ]
  },
  {
   "cell_type": "markdown",
   "metadata": {},
   "source": [
    "## the most common genre"
   ]
  },
  {
   "cell_type": "code",
   "execution_count": 4,
   "metadata": {},
   "outputs": [
    {
     "data": {
      "text/plain": [
       "'Action'"
      ]
     },
     "execution_count": 4,
     "metadata": {},
     "output_type": "execute_result"
    }
   ],
   "source": [
    "genre = df['Genre'].mode()[0]\n",
    "genre\n"
   ]
  },
  {
   "cell_type": "markdown",
   "metadata": {},
   "source": [
    "## What are the top 20 highest grossing games?\n"
   ]
  },
  {
   "cell_type": "code",
   "execution_count": 5,
   "metadata": {},
   "outputs": [],
   "source": [
    "top_grossing = df.sort_values('Global_Sales',ascending=False).head(20)\n",
    "# top_grossing\n"
   ]
  },
  {
   "cell_type": "markdown",
   "metadata": {},
   "source": [
    "## For North American video game sales, what’s the median?"
   ]
  },
  {
   "cell_type": "code",
   "execution_count": 6,
   "metadata": {},
   "outputs": [
    {
     "data": {
      "text/plain": [
       "'Nickelodeon Dance'"
      ]
     },
     "execution_count": 6,
     "metadata": {},
     "output_type": "execute_result"
    }
   ],
   "source": [
    "na_median =  df.median()[\"NA_Sales\"]\n",
    "# na_median\n",
    "same_median = df[df['NA_Sales'] == na_median]\n",
    "median = same_median[same_median[\"Rank\"] == same_median.median()[\"Rank\"]]\n",
    "rank_value = median[\"Rank\"].values[0]\n",
    "after_median = same_median[rank_value <= same_median[\"Rank\"]].head(5)\n",
    "before_median = same_median[rank_value > same_median[\"Rank\"]].tail(5)\n",
    "around_median = pd.concat([before_median , after_median])\n",
    "\n",
    "median[\"Name\"].values[0]"
   ]
  },
  {
   "cell_type": "markdown",
   "metadata": {},
   "source": [
    "## how many standard deviations above/below the mean are its sales for North America?\n"
   ]
  },
  {
   "cell_type": "code",
   "execution_count": 7,
   "metadata": {},
   "outputs": [],
   "source": [
    "# top_game = df.sort_values('Global_Sales',ascending=False)\n",
    "# the_mean = top_game.mean()[\"NA_Sales\"]\n",
    "# above = top_game[top_game['NA_Sales'].std() > the_mean]\n",
    "# below  = top_game[top_game['NA_Sales'].std() < the_mean]\n",
    "# standard_deviations =  above.std()['NA_Sales']/below.std()['NA_Sales']\n",
    "# below\n"
   ]
  },
  {
   "cell_type": "markdown",
   "metadata": {},
   "source": [
    "## The Nintendo Wii seems to have outdone itself with games. How does its average number of sales compare with all of the other platforms?\n"
   ]
  },
  {
   "cell_type": "code",
   "execution_count": 8,
   "metadata": {},
   "outputs": [],
   "source": [
    "nintendo = df[df[\"Platform\"] == 'Wii' ]\n",
    "wii = nintendo['Global_Sales'].mean()\n",
    "not_nintendo = df[df[\"Platform\"] != 'Wii' ]\n",
    "not_wii = not_nintendo['Global_Sales'].mean()\n"
   ]
  },
  {
   "cell_type": "markdown",
   "metadata": {},
   "source": [
    "## my 3 quistions"
   ]
  },
  {
   "cell_type": "markdown",
   "metadata": {},
   "source": [
    "1. **what game is the least sales**\n"
   ]
  },
  {
   "cell_type": "code",
   "execution_count": 9,
   "metadata": {},
   "outputs": [
    {
     "data": {
      "text/plain": [
       "'Spirits & Spells'"
      ]
     },
     "execution_count": 9,
     "metadata": {},
     "output_type": "execute_result"
    }
   ],
   "source": [
    "least_game = df.sort_values('Global_Sales',ascending=False).tail(1).values[0][1]\n",
    "least_game"
   ]
  },
  {
   "cell_type": "markdown",
   "metadata": {},
   "source": [
    "2.**compare between the average selling between Europe and North America**"
   ]
  },
  {
   "cell_type": "code",
   "execution_count": 10,
   "metadata": {},
   "outputs": [
    {
     "data": {
      "text/plain": [
       "0.26466742981082064"
      ]
     },
     "execution_count": 10,
     "metadata": {},
     "output_type": "execute_result"
    }
   ],
   "source": [
    "na_avg =  df.mean()[\"NA_Sales\"]\n",
    "eu_avg = df.mean()[\"EU_Sales\"]\n",
    "na_avg\n"
   ]
  },
  {
   "cell_type": "markdown",
   "metadata": {},
   "source": [
    "3. **newest game**"
   ]
  },
  {
   "cell_type": "code",
   "execution_count": 11,
   "metadata": {},
   "outputs": [
    {
     "data": {
      "text/plain": [
       "'Imagine: Makeup Artist'"
      ]
     },
     "execution_count": 11,
     "metadata": {},
     "output_type": "execute_result"
    }
   ],
   "source": [
    "newest = df.sort_values('Year',ascending=False).head(1)[\"Name\"].values[0]\n",
    "\n",
    "newest"
   ]
  },
  {
   "cell_type": "code",
   "execution_count": 13,
   "metadata": {},
   "outputs": [],
   "source": [
    "def test_most_common_publisher():\n",
    "    actual = df['Publisher'].mode()[0]\n",
    "    expected = \"Electronic Arts\"\n",
    "    assert actual == expected\n",
    "test_most_common_publisher()\n",
    "\n",
    "def test_most_common_platform():\n",
    "    actual = df['Platform'].mode()[0]\n",
    "    expected = 'DS'\n",
    "    assert actual == expected\n",
    "test_most_common_platform()\n",
    "\n",
    "def test_most_common_genre():\n",
    "    actual = df['Genre'].mode()[0]\n",
    "    expected = 'Action'\n",
    "    assert actual == expected\n",
    "test_most_common_genre()\n",
    "\n",
    "def test_top_20_grossing():\n",
    "    actual = top_grossing.values[0][1]\n",
    "    expected = 'Wii Sports'\n",
    "    assert actual == expected\n",
    "test_top_20_grossing()\n",
    "\n",
    "def test_median_NA():\n",
    "    actual = median[\"Name\"].values[0]\n",
    "    expected = 'Nickelodeon Dance'\n",
    "    assert actual == expected\n",
    "test_median_NA()\n",
    "\n",
    "def test_wii_vs_not_wii():\n",
    "    assert not_wii == 0.5233896418516336\n",
    "    assert wii == 0.6994037735849057\n",
    "test_wii_vs_not_wii()\n",
    "\n",
    "def test_least_selling_game():\n",
    "    assert least_game == 'Spirits & Spells'\n",
    "test_least_selling_game()\n",
    "\n",
    "def test_eu_vs_na():\n",
    "    assert na_avg == 0.26466742981082064\n",
    "    assert eu_avg == 0.14665200626581515\n",
    "test_eu_vs_na()\n",
    "\n",
    "def test_newest_game():\n",
    "    assert newest == 'Imagine: Makeup Artist'\n",
    "test_newest_game()\n"
   ]
  },
  {
   "cell_type": "code",
   "execution_count": null,
   "metadata": {},
   "outputs": [],
   "source": []
  },
  {
   "cell_type": "markdown",
   "metadata": {},
   "source": []
  }
 ],
 "metadata": {
  "interpreter": {
   "hash": "55b876081547eada24cabb4ab5a936442973674e8cf57e339dabf0706e50e70a"
  },
  "kernelspec": {
   "display_name": "Python 3.8.10 64-bit ('.venv': poetry)",
   "language": "python",
   "name": "python3"
  },
  "language_info": {
   "codemirror_mode": {
    "name": "ipython",
    "version": 3
   },
   "file_extension": ".py",
   "mimetype": "text/x-python",
   "name": "python",
   "nbconvert_exporter": "python",
   "pygments_lexer": "ipython3",
   "version": "3.8.10"
  },
  "orig_nbformat": 4
 },
 "nbformat": 4,
 "nbformat_minor": 2
}

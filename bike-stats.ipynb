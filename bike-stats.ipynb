{
 "cells": [
  {
   "cell_type": "markdown",
   "metadata": {},
   "source": [
    "# bike status analysis\n",
    "- **dev name** : Yousef alramli \n",
    "- **date** : 15/11/2021"
   ]
  },
  {
   "cell_type": "code",
   "execution_count": 1,
   "metadata": {},
   "outputs": [],
   "source": [
    "%matplotlib inline\n",
    "import matplotlib.pyplot as plt\n",
    "\n",
    "import pandas as pd\n",
    "\n"
   ]
  },
  {
   "cell_type": "code",
   "execution_count": 37,
   "metadata": {},
   "outputs": [
    {
     "name": "stderr",
     "output_type": "stream",
     "text": [
      "b'Skipping line 50794: expected 12 fields, saw 20\\n'\n"
     ]
    }
   ],
   "source": [
    "df = pd.read_csv('trip.csv',error_bad_lines=False)\n",
    "\n",
    "df_w = pd.read_csv('weather.csv',error_bad_lines=False)\n",
    "\n",
    "df_s = pd.read_csv('station.csv',error_bad_lines=False)\n"
   ]
  },
  {
   "cell_type": "markdown",
   "metadata": {},
   "source": [
    "## What is the average trip duration for a borrowed bicycle?"
   ]
  },
  {
   "cell_type": "code",
   "execution_count": 3,
   "metadata": {},
   "outputs": [],
   "source": [
    "avg_time = df[\"tripduration\"].mean()"
   ]
  },
  {
   "cell_type": "markdown",
   "metadata": {},
   "source": [
    "## What’s the most common age of a bicycle-sharer?"
   ]
  },
  {
   "cell_type": "code",
   "execution_count": 4,
   "metadata": {},
   "outputs": [
    {
     "data": {
      "text/plain": [
       "34.0"
      ]
     },
     "execution_count": 4,
     "metadata": {},
     "output_type": "execute_result"
    }
   ],
   "source": [
    "year = df['birthyear'].mode().values[0]\n",
    "age = 2021 - year\n",
    "age\n"
   ]
  },
  {
   "cell_type": "markdown",
   "metadata": {},
   "source": [
    "## Given all the weather data here, find the average precipitation per month, and the median precipitation."
   ]
  },
  {
   "cell_type": "code",
   "execution_count": 35,
   "metadata": {},
   "outputs": [
    {
     "data": {
      "text/plain": [
       "[Date  Date\n",
       " 2014  10      0.300526\n",
       "       11      0.141667\n",
       "       12      0.145161\n",
       " 2015  1       0.070645\n",
       "       2       0.163214\n",
       "       3       0.135161\n",
       "       4       0.056667\n",
       "       5       0.014194\n",
       "       6       0.005667\n",
       "       7       0.008710\n",
       "       8       0.035484\n",
       "       9       0.041000\n",
       "       10      0.120645\n",
       "       11      0.234000\n",
       "       12      0.327419\n",
       " 2016  1       0.216452\n",
       "       2       0.173448\n",
       "       3       0.178710\n",
       "       4       0.046000\n",
       "       5       0.010645\n",
       "       6       0.055333\n",
       "       7       0.015484\n",
       "       8       0.000968\n",
       " Name: Precipitation_In, dtype: float64,\n",
       " Date  Date\n",
       " 2014  10      0.140\n",
       "       11      0.010\n",
       "       12      0.010\n",
       " 2015  1       0.010\n",
       "       2       0.025\n",
       "       3       0.000\n",
       "       4       0.000\n",
       "       5       0.000\n",
       "       6       0.000\n",
       "       7       0.000\n",
       "       8       0.000\n",
       "       9       0.000\n",
       "       10      0.010\n",
       "       11      0.065\n",
       "       12      0.120\n",
       " 2016  1       0.070\n",
       "       2       0.080\n",
       "       3       0.060\n",
       "       4       0.000\n",
       "       5       0.000\n",
       "       6       0.000\n",
       "       7       0.000\n",
       "       8       0.000\n",
       " Name: Precipitation_In, dtype: float64]"
      ]
     },
     "execution_count": 35,
     "metadata": {},
     "output_type": "execute_result"
    }
   ],
   "source": [
    "year = pd.DatetimeIndex(df_w['Date']).year\n",
    "\n",
    "month = pd.DatetimeIndex(df_w['Date']).month\n",
    "\n",
    "year = df_w.groupby([(year),(month)])['Precipitation_In']\n",
    "year_mean = year.mean()\n",
    "year_median = year.median()\n",
    "all_date = [(year_mean),(year_median)]\n",
    "all_date"
   ]
  },
  {
   "cell_type": "markdown",
   "metadata": {},
   "source": [
    "## What’s the average number of bikes at a given bike station?\n"
   ]
  },
  {
   "cell_type": "code",
   "execution_count": 90,
   "metadata": {},
   "outputs": [
    {
     "data": {
      "text/plain": [
       "17.586206896551722"
      ]
     },
     "execution_count": 90,
     "metadata": {},
     "output_type": "execute_result"
    }
   ],
   "source": [
    "grouped_stations = df_s.groupby(df_s['name'])[\"install_dockcount\"].mean().mean()\n",
    "grouped_stations"
   ]
  },
  {
   "cell_type": "markdown",
   "metadata": {},
   "source": [
    "## When a bike station is modified, is it more likely that it’ll lose bikes or gain bikes? How do you know?"
   ]
  },
  {
   "cell_type": "code",
   "execution_count": 106,
   "metadata": {},
   "outputs": [
    {
     "data": {
      "text/plain": [
       "-62"
      ]
     },
     "execution_count": 106,
     "metadata": {},
     "output_type": "execute_result"
    }
   ],
   "source": [
    "current_bikes = df_s[\"current_dockcount\"].sum()\n",
    "all_bikes = df_s[\"install_dockcount\"].sum()\n",
    "deference = current_bikes - all_bikes \n",
    "deference\n"
   ]
  },
  {
   "cell_type": "markdown",
   "metadata": {},
   "source": [
    "## Come up with 3 more questions that can be answered with this data set.\n",
    "1. **how many trips there are**"
   ]
  },
  {
   "cell_type": "code",
   "execution_count": 128,
   "metadata": {},
   "outputs": [],
   "source": [
    "all_trips = df['trip_id'].count()"
   ]
  },
  {
   "cell_type": "markdown",
   "metadata": {},
   "source": [
    "2. **average of the current bikes**"
   ]
  },
  {
   "cell_type": "code",
   "execution_count": 137,
   "metadata": {},
   "outputs": [],
   "source": [
    "current_mean = df_s[\"current_dockcount\"].mean()"
   ]
  },
  {
   "cell_type": "markdown",
   "metadata": {},
   "source": [
    "3. **wich day have the least max tempreture**"
   ]
  },
  {
   "cell_type": "code",
   "execution_count": 149,
   "metadata": {},
   "outputs": [],
   "source": [
    "date_of_coolist = df_w.sort_values(\"Max_Temperature_F\" , ascending= False).tail(1).values[0][0]"
   ]
  },
  {
   "cell_type": "code",
   "execution_count": 150,
   "metadata": {},
   "outputs": [],
   "source": [
    "def test_avg_time():\n",
    "    assert avg_time == 1178.2956753399776\n",
    "test_avg_time()\n",
    "\n",
    "def test_most_common_age():\n",
    "    assert age == 34.0\n",
    "test_most_common_age()\n",
    "\n",
    "def test_avg_in_station():\n",
    "    assert grouped_stations == 17.586206896551722\n",
    "test_most_common_age()\n",
    "\n",
    "def test_bike_deference():\n",
    "    assert deference == -62\n",
    "test_bike_deference()\n",
    "\n",
    "def test_all_trips():\n",
    "    assert all_trips == 286857\n",
    "test_all_trips()\n",
    "\n",
    "def test_current_bikes():\n",
    "    assert current_mean == 16.517241379310345\n",
    "test_current_bikes()\n",
    "\n",
    "def test_cooliest():\n",
    "    assert date_of_coolist == '11/29/2015'\n",
    "test_cooliest()"
   ]
  }
 ],
 "metadata": {
  "interpreter": {
   "hash": "9940578e4c4d991f10be210b88d8d74d8d27dec11b7a6db233ec98418889d134"
  },
  "kernelspec": {
   "display_name": "Python 3.8.10 64-bit ('.venv': poetry)",
   "language": "python",
   "name": "python3"
  },
  "language_info": {
   "codemirror_mode": {
    "name": "ipython",
    "version": 3
   },
   "file_extension": ".py",
   "mimetype": "text/x-python",
   "name": "python",
   "nbconvert_exporter": "python",
   "pygments_lexer": "ipython3",
   "version": "3.8.10"
  },
  "orig_nbformat": 4
 },
 "nbformat": 4,
 "nbformat_minor": 2
}
